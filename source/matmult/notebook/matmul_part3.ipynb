{
 "cells": [
  {
   "cell_type": "markdown",
   "id": "174103bf",
   "metadata": {},
   "source": [
    "# Part 3: System-level Integration and Performance Analysis\n",
    "\n",
    "## 1. Software Implementation\n",
    "\n",
    "### 1.1 Generate Random Numpy Array\n",
    "\n",
    "Use the `random.randint()` in `Numpy` library in Python to generate a random numpy array with dimensions of 1*16328."
   ]
  },
  {
   "cell_type": "code",
   "execution_count": null,
   "id": "eb53ca70",
   "metadata": {},
   "outputs": [
    {
     "name": "stdout",
     "output_type": "stream",
     "text": [
      "in1:  [[161  21 172 ... 212  72 173]]\n",
      "in2:  [[187  98 132 ...  12 132 109]]\n"
     ]
    }
   ],
   "source": [
    "import numpy as np\n",
    "in1 = np.random.randint(255, size=(1,16384))\n",
    "in2 = np.random.randint(255, size=(1,16384))\n",
    "\n",
    "print(\"in1: \", in1)\n",
    "print(\"in2: \", in2)"
   ]
  },
  {
   "cell_type": "markdown",
   "id": "c895a27b",
   "metadata": {},
   "source": [
    "我们可以来查看一下随机生成的数组。"
   ]
  },
  {
   "cell_type": "markdown",
   "id": "87627440",
   "metadata": {},
   "source": [
    "### 1.2 Resize the Array\n",
    "\n",
    "Due to the formatting restrictions for matrix calculations in the numpy library, we need to resize the randomly generated arrays in1 and in2 using the `np.resize()` function to dimensions of 128*128."
   ]
  },
  {
   "cell_type": "code",
   "execution_count": null,
   "id": "6c48904a",
   "metadata": {},
   "outputs": [],
   "source": [
    "in1_py = np.resize(in1,(128,128))\n",
    "in2_py = np.resize(in2,(128,128))"
   ]
  },
  {
   "cell_type": "markdown",
   "id": "de29f229",
   "metadata": {},
   "source": [
    "### 1.3 Software Implementation\n",
    "\n",
    "Then we perform matrix computation using the `np.dot()` function, measure the execution time, and compare it with subsequent hardware acceleration time."
   ]
  },
  {
   "cell_type": "code",
   "execution_count": null,
   "id": "972f4889",
   "metadata": {},
   "outputs": [
    {
     "name": "stdout",
     "output_type": "stream",
     "text": [
      "SW matrix multiplicationexecution time: 0.029274463653564453s\n"
     ]
    }
   ],
   "source": [
    "import time\n",
    "start_time = time.time()\n",
    "out_py = np.dot(in1_py,in2_py)\n",
    "end_time = time.time()\n",
    "python_time = end_time - start_time\n",
    "print(\"SW matrix multiplication execution time: {}s\".format(end_time - start_time))"
   ]
  },
  {
   "cell_type": "code",
   "execution_count": null,
   "id": "04ae03bb",
   "metadata": {},
   "outputs": [
    {
     "name": "stdout",
     "output_type": "stream",
     "text": [
      "The result of software matrix multiplication:  [[2343204 2170781 2277702 ... 2356522 2360219 2288475]\n",
      " [2115601 2048914 2109689 ... 2226825 2303553 2099042]\n",
      " [2004085 1950034 2005690 ... 1963906 2089307 2069146]\n",
      " ...\n",
      " [1958994 1896284 2065499 ... 2050404 2134619 2029131]\n",
      " [2122404 1900792 2035524 ... 2156144 2184598 2085480]\n",
      " [2006483 1992024 2049774 ... 2137620 2198176 2159200]]\n"
     ]
    }
   ],
   "source": [
    "print(\"The result of software matrix multiplication: \", out_py)"
   ]
  },
  {
   "cell_type": "markdown",
   "id": "dfa576b8",
   "metadata": {},
   "source": [
    "## 2 Hardware Implementation - Baseline\n",
    "\n",
    "### 2.1 Load overlay\n",
    "\n",
    "The `Overlay` library encapsulates the interface for interaction between the ARM CPU and the FPGA's PL section.\n",
    "\n",
    "We can load the generated hardware design onto the PL simply using the `Overlay()` function.\n",
    "\n",
    "With the statement `overlay.mmult_hw_0`, we can interact with the IP in the form of accessing Python objects."
   ]
  },
  {
   "cell_type": "code",
   "execution_count": null,
   "id": "437cb46b",
   "metadata": {},
   "outputs": [
    {
     "data": {
      "application/javascript": "\ntry {\nrequire(['notebook/js/codecell'], function(codecell) {\n  codecell.CodeCell.options_default.highlight_modes[\n      'magic_text/x-csrc'] = {'reg':[/^%%microblaze/]};\n  Jupyter.notebook.events.one('kernel_ready.Kernel', function(){\n      Jupyter.notebook.get_cells().map(function(cell){\n          if (cell.cell_type == 'code'){ cell.auto_highlight(); } }) ;\n  });\n});\n} catch (e) {};\n"
     },
     "metadata": {},
     "output_type": "display_data"
    },
    {
     "data": {
      "application/javascript": "\ntry {\nrequire(['notebook/js/codecell'], function(codecell) {\n  codecell.CodeCell.options_default.highlight_modes[\n      'magic_text/x-csrc'] = {'reg':[/^%%pybind11/]};\n  Jupyter.notebook.events.one('kernel_ready.Kernel', function(){\n      Jupyter.notebook.get_cells().map(function(cell){\n          if (cell.cell_type == 'code'){ cell.auto_highlight(); } }) ;\n  });\n});\n} catch (e) {};\n"
     },
     "metadata": {},
     "output_type": "display_data"
    }
   ],
   "source": [
    "from pynq import Overlay\n",
    "overlay_baseline = Overlay(\"../prj/baseline/overlay/mmult_baseline.bit\")\n",
    "baseline = overlay_baseline.mmult_hw_0"
   ]
  },
  {
   "cell_type": "markdown",
   "id": "9e9901ae",
   "metadata": {},
   "source": [
    "### 2.2 Allocate memory for IP\n",
    "\n",
    "The `pynq.allocate()` function is used to allocate memory space that can be used by IPs in the PL.\n",
    "\n",
    "Before IPs in the PL access the DRAM, some memory needs to be reserved for them, with allocated sizes and addresses.\n",
    "\n",
    "So we allocate memory for three parts: input, output, and weights, each with a data type of int32.\n",
    "\n",
    "`pynq.allocate()` allocates physically contiguous memory and returns a pynq.Buffer object representing the allocated buffer."
   ]
  },
  {
   "cell_type": "code",
   "execution_count": null,
   "id": "677e31dc",
   "metadata": {},
   "outputs": [],
   "source": [
    "from pynq import allocate\n",
    "dim0 = 128\n",
    "input1_buffer0 = allocate(shape=(128*128,), dtype='i4')\n",
    "input2_buffer0 = allocate(shape=(128*128,), dtype='i4')\n",
    "output_buffer0 = allocate(shape=(128*128,), dtype='i4')"
   ]
  },
  {
   "cell_type": "markdown",
   "id": "2477199a",
   "metadata": {},
   "source": [
    "Copy the matrix from the Python local memory to the memory we just allocated."
   ]
  },
  {
   "cell_type": "code",
   "execution_count": null,
   "id": "8eebe9a5",
   "metadata": {},
   "outputs": [],
   "source": [
    "np.copyto(input1_buffer0, np.int32(in1))\n",
    "np.copyto(input2_buffer0, np.int32(in2))"
   ]
  },
  {
   "cell_type": "markdown",
   "id": "77a4e641",
   "metadata": {},
   "source": [
    "### 2.3 Config IP\n",
    "\n",
    "According to our setup of the IP interface, it has four input and output ports, reguarlly we can get these addresses from\n",
    "vitis or `./matmult/prj/baseline/kernel/fir_base/baseline/impl/misc/drivers/fir_wrap_v1_0/src/xfir_wrap_hw.h`.\n",
    "\n",
    "- 0x10 and 0x1c: Addresses of input data.\n",
    "\n",
    "- 0x28: Address of output data.\n",
    "\n",
    "- 0x34: Length of data to be processed.\n",
    "\n",
    "We can directly use the IP's write method to write the addresses of the just allocated memory space to the corresponding positions of the IP.\n",
    "\n",
    "According to our setup of the IP interface, it has four input and output ports, reguarlly we can get these addresses from\n",
    "vitis or `./hls/matmult/prj/baseline/kernel/mmult_baseline/baseline/impl/ip/drivers/mmult_hw_v1_0/src/xmmult_hw_hw.h`.\n",
    "- 0x1c, y, the address of the input data\n",
    "- 0x10, x, the address of the output data\n",
    "- 0x30, the address of the filter coefficients\n",
    "- 0x28, the length of the data to be processed\n",
    "\n",
    "\n",
    "Reguarly, we can use the `write` method of the IP directly to write the address of the just allocated memory space to the corresponding location of the IP.\n",
    "```python\n",
    "baseline.write(0x10, input1_buffer0.physical_address)\n",
    "baseline.write(0x1c, input2_buffer0.physical_address)\n",
    "baseline.write(0x28, output_buffer0.physical_address)\n",
    "baseline.write(0x34, dim0)\n",
    "```\n",
    "\n",
    "Since the `.hwh` file has been provided, the `fir` object already includes the Register Map and exposes it. We can directly print and inspect information about each register."
   ]
  },
  {
   "cell_type": "code",
   "execution_count": null,
   "id": "1fff63a3",
   "metadata": {},
   "outputs": [
    {
     "data": {
      "text/plain": [
       "RegisterMap {\n",
       "  CTRL = Register(AP_START=0, AP_DONE=0, AP_IDLE=1, AP_READY=0, RESERVED_1=0, AUTO_RESTART=0, RESERVED_2=0, INTERRUPT=0, RESERVED_3=0),\n",
       "  GIER = Register(Enable=0, RESERVED=0),\n",
       "  IP_IER = Register(CHAN0_INT_EN=0, CHAN1_INT_EN=0, RESERVED_0=0),\n",
       "  IP_ISR = Register(CHAN0_INT_ST=0, CHAN1_INT_ST=0, RESERVED_0=0),\n",
       "  in1_1 = Register(in1=write-only),\n",
       "  in1_2 = Register(in1=write-only),\n",
       "  in2_1 = Register(in2=write-only),\n",
       "  in2_2 = Register(in2=write-only),\n",
       "  out_r_1 = Register(out_r=write-only),\n",
       "  out_r_2 = Register(out_r=write-only),\n",
       "  dim = Register(dim=write-only)\n",
       "}"
      ]
     },
     "execution_count": 8,
     "metadata": {},
     "output_type": "execute_result"
    }
   ],
   "source": [
    "baseline.register_map"
   ]
  },
  {
   "cell_type": "code",
   "execution_count": null,
   "id": "e64e8fdb",
   "metadata": {},
   "outputs": [
    {
     "data": {
      "text/plain": [
       "16"
      ]
     },
     "execution_count": 9,
     "metadata": {},
     "output_type": "execute_result"
    }
   ],
   "source": [
    "baseline.register_map.in1_1.address"
   ]
  },
  {
   "cell_type": "code",
   "execution_count": null,
   "id": "7a85fe75",
   "metadata": {},
   "outputs": [],
   "source": [
    "baseline.write(baseline.register_map.in1_1.address, input1_buffer0.physical_address)\n",
    "baseline.write(baseline.register_map.in2_1.address, input2_buffer0.physical_address)\n",
    "baseline.write(baseline.register_map.out_r_1.address, output_buffer0.physical_address)\n",
    "baseline.write(baseline.register_map.dim.address, dim0)"
   ]
  },
  {
   "cell_type": "markdown",
   "id": "ed55a0a0",
   "metadata": {},
   "source": [
    "### 2.4 Boot IP\n",
    "\n",
    "The control signal is located at address 0x00. We can write to and read from it to control the IP startup and listen for completion signals."
   ]
  },
  {
   "cell_type": "code",
   "execution_count": null,
   "id": "146ca454",
   "metadata": {},
   "outputs": [
    {
     "name": "stdout",
     "output_type": "stream",
     "text": [
      "HW multiplication (baseline) execution time: 0.1557753086090088s\n"
     ]
    }
   ],
   "source": [
    "baseline.write(0x00, 0x01)\n",
    "start_time = time.time()\n",
    "while True:\n",
    "    reg = baseline.read(0x00)\n",
    "    if reg != 1:\n",
    "        break\n",
    "end_time = time.time()\n",
    "baseline_time = end_time - start_time\n",
    "\n",
    "print(\"HW multiplication (baseline) execution time: {}s\".format(end_time - start_time))"
   ]
  },
  {
   "cell_type": "markdown",
   "id": "66cac7d3",
   "metadata": {},
   "source": [
    "The result has been written into the output_buffer. We can now proceed to view it."
   ]
  },
  {
   "cell_type": "code",
   "execution_count": null,
   "id": "851e52be",
   "metadata": {},
   "outputs": [
    {
     "data": {
      "text/plain": [
       "PynqBuffer([2343204, 2170781, 2277702, ..., 2137620, 2198176, 2159200],\n",
       "           dtype=int32)"
      ]
     },
     "execution_count": 12,
     "metadata": {},
     "output_type": "execute_result"
    }
   ],
   "source": [
    "output_buffer0"
   ]
  },
  {
   "cell_type": "markdown",
   "id": "8f79d200",
   "metadata": {},
   "source": [
    "Also, we can compare the HW result with the SW result to validate their correctness."
   ]
  },
  {
   "cell_type": "code",
   "execution_count": null,
   "id": "7c2dd684",
   "metadata": {},
   "outputs": [
    {
     "name": "stdout",
     "output_type": "stream",
     "text": [
      "HW result is CORRECT!\n"
     ]
    }
   ],
   "source": [
    "out_py_re = out_py.reshape(128*128,)\n",
    "cmp = out_py_re==output_buffer0\n",
    "if(cmp.all()):\n",
    "    print(\"HW result is CORRECT!\")\n",
    "else:\n",
    "    print(\"HW result is INCORRECT!\")"
   ]
  },
  {
   "cell_type": "markdown",
   "id": "0863b0ea",
   "metadata": {},
   "source": [
    "## 3 Hardware Implementation - Block Matrix Multiplication\n",
    "\n",
    "### 3.1 Load Overlay\n"
   ]
  },
  {
   "cell_type": "code",
   "execution_count": null,
   "id": "62eda125",
   "metadata": {},
   "outputs": [],
   "source": [
    "from pynq import Overlay\n",
    "overlay_block = Overlay(\"../prj/block/overlay/mmult_block.bit\")\n",
    "block = overlay_block.mmult_hw_0"
   ]
  },
  {
   "cell_type": "markdown",
   "id": "ac76f2f8",
   "metadata": {},
   "source": [
    "### 3.2 Allocate memory for IP"
   ]
  },
  {
   "cell_type": "code",
   "execution_count": null,
   "id": "5fb6de40",
   "metadata": {},
   "outputs": [],
   "source": [
    "from pynq import allocate\n",
    "dim1 = 128\n",
    "input1_buffer1 = allocate(shape=(128*128,), dtype='i4')\n",
    "input2_buffer1 = allocate(shape=(128*128,), dtype='i4')\n",
    "output_buffer1 = allocate(shape=(128*128,), dtype='i4')"
   ]
  },
  {
   "cell_type": "markdown",
   "id": "d640b2a5",
   "metadata": {},
   "source": [
    "Copy the matrix from the Python local memory to the memory we just allocated."
   ]
  },
  {
   "cell_type": "code",
   "execution_count": null,
   "id": "64ed03ec",
   "metadata": {},
   "outputs": [],
   "source": [
    "np.copyto(input1_buffer1, np.int32(in1))\n",
    "np.copyto(input2_buffer1, np.int32(in2))"
   ]
  },
  {
   "cell_type": "markdown",
   "id": "24e6a91e",
   "metadata": {},
   "source": [
    "### 3.3 Config IP"
   ]
  },
  {
   "cell_type": "code",
   "execution_count": null,
   "id": "39c9116a",
   "metadata": {},
   "outputs": [
    {
     "data": {
      "text/plain": [
       "RegisterMap {\n",
       "  CTRL = Register(AP_START=0, AP_DONE=0, AP_IDLE=1, AP_READY=0, RESERVED_1=0, AUTO_RESTART=0, RESERVED_2=0, INTERRUPT=0, RESERVED_3=0),\n",
       "  GIER = Register(Enable=0, RESERVED=0),\n",
       "  IP_IER = Register(CHAN0_INT_EN=0, CHAN1_INT_EN=0, RESERVED_0=0),\n",
       "  IP_ISR = Register(CHAN0_INT_ST=0, CHAN1_INT_ST=0, RESERVED_0=0),\n",
       "  in1_1 = Register(in1=write-only),\n",
       "  in1_2 = Register(in1=write-only),\n",
       "  in2_1 = Register(in2=write-only),\n",
       "  in2_2 = Register(in2=write-only),\n",
       "  out_r_1 = Register(out_r=write-only),\n",
       "  out_r_2 = Register(out_r=write-only),\n",
       "  dim = Register(dim=write-only)\n",
       "}"
      ]
     },
     "execution_count": 17,
     "metadata": {},
     "output_type": "execute_result"
    }
   ],
   "source": [
    "block.register_map"
   ]
  },
  {
   "cell_type": "code",
   "execution_count": null,
   "id": "9de293bd",
   "metadata": {},
   "outputs": [],
   "source": [
    "block.write(block.register_map.in1_1.address, input1_buffer0.physical_address)\n",
    "block.write(block.register_map.in2_1.address, input2_buffer0.physical_address)\n",
    "block.write(block.register_map.out_r_1.address, output_buffer0.physical_address)\n",
    "block.write(block.register_map.dim.address, dim0)"
   ]
  },
  {
   "cell_type": "markdown",
   "id": "41f9d9f6",
   "metadata": {},
   "source": [
    "### 3.4 Boot IP"
   ]
  },
  {
   "cell_type": "code",
   "execution_count": null,
   "id": "4eb5e9ec",
   "metadata": {},
   "outputs": [
    {
     "name": "stdout",
     "output_type": "stream",
     "text": [
      "HW multiplication (baseline) execution time: 0.0006804466247558594s\n"
     ]
    }
   ],
   "source": [
    "block.write(0x00, 0x01)\n",
    "start_time = time.time()\n",
    "while True:\n",
    "    reg = block.read(0x00)\n",
    "    if reg != 1:\n",
    "        break\n",
    "end_time = time.time()\n",
    "block_time = end_time - start_time\n",
    "\n",
    "print(\"HW multiplication (baseline) execution time: {}s\".format(end_time - start_time))"
   ]
  },
  {
   "cell_type": "markdown",
   "id": "e4fb83ff",
   "metadata": {},
   "source": [
    "The result has been written into the output_buffer. We can now proceed to view it."
   ]
  },
  {
   "cell_type": "code",
   "execution_count": null,
   "id": "90f43113",
   "metadata": {},
   "outputs": [
    {
     "data": {
      "text/plain": [
       "PynqBuffer([0, 0, 0, ..., 0, 0, 0], dtype=int32)"
      ]
     },
     "execution_count": 20,
     "metadata": {},
     "output_type": "execute_result"
    }
   ],
   "source": [
    "output_buffer1"
   ]
  },
  {
   "cell_type": "markdown",
   "id": "ba027fc3",
   "metadata": {},
   "source": [
    "Also, we can compare the HW result with the SW result to validate their correctness."
   ]
  },
  {
   "cell_type": "code",
   "execution_count": null,
   "id": "dbd79760",
   "metadata": {},
   "outputs": [
    {
     "name": "stdout",
     "output_type": "stream",
     "text": [
      "HW result is INCORRECT!\n"
     ]
    }
   ],
   "source": [
    "cmp = out_py_re==output_buffer1\n",
    "if(cmp.all()):\n",
    "    print(\"HW result is CORRECT!\")\n",
    "else:\n",
    "    print(\"HW result is INCORRECT!\")"
   ]
  },
  {
   "cell_type": "markdown",
   "id": "f2c4d96e",
   "metadata": {},
   "source": [
    "## 4 Performance Analysis"
   ]
  },
  {
   "cell_type": "code",
   "execution_count": null,
   "id": "0427e5ce",
   "metadata": {},
   "outputs": [],
   "source": [
    "import numpy as np\n",
    "import matplotlib.pyplot as plt\n",
    "import random\n",
    "\n",
    "# prepare data\n",
    "x_data = ['python','baseline','block']\n",
    "y_data = [python_time,baseline_time,block_time]\n",
    "\n",
    "\n",
    "for i in range(len(x_data)):\n",
    "    plt.bar(x_data[i], y_data[i])\n",
    "\n",
    "for a,b in zip(x_data,y_data):   \n",
    "    plt.text(a,b,'%.4f'%b,ha='center',va='bottom',fontsize=11);\n",
    "    \n",
    "plt.title(\"Time used of different types\")\n",
    "plt.xlabel(\"Type\")\n",
    "plt.ylabel(\"Time(s)\")\n",
    "\n",
    "plt.show()"
   ]
  }
 ],
 "metadata": {
  "kernelspec": {
   "display_name": "Python 3 (ipykernel)",
   "language": "python",
   "name": "python3"
  },
  "language_info": {
   "codemirror_mode": {
    "name": "ipython",
    "version": 3
   },
   "file_extension": ".py",
   "mimetype": "text/x-python",
   "name": "python",
   "nbconvert_exporter": "python",
   "pygments_lexer": "ipython3",
   "version": "3.8.10"
  }
 },
 "nbformat": 4,
 "nbformat_minor": 5
}
